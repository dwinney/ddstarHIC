{
 "cells": [
  {
   "cell_type": "code",
   "execution_count": 1,
   "metadata": {},
   "outputs": [
    {
     "output_type": "stream",
     "name": "stdout",
     "text": [
      "Welcome to JupyROOT 6.22/02\n"
     ]
    }
   ],
   "source": [
    "import ROOT"
   ]
  },
  {
   "cell_type": "code",
   "execution_count": 2,
   "metadata": {},
   "outputs": [],
   "source": [
    "file = ROOT.TFile('../data/D0D0Bar30TO50_New.root', 'READ')"
   ]
  },
  {
   "cell_type": "code",
   "execution_count": 72,
   "metadata": {},
   "outputs": [
    {
     "output_type": "stream",
     "name": "stderr",
     "text": [
      "Warning in <TCanvas::Constructor>: Deleting canvas with same name: c1\nWarning in <TFile::Append>: Replacing existing TH1: rel_mom_v_sep (Potential memory leak).\n"
     ]
    }
   ],
   "source": [
    "c1 = ROOT.TCanvas(\"c1\",\"c1\",800,600)\n",
    "h1 = ROOT.TH2F('rel_mom_v_sep', 'Lab Frame', 20, 0, 50, 20, 0, 50)\n",
    "\n",
    "for entry in file.lab:\n",
    "    # calculate relative separation\n",
    "    xD      = ROOT.TVector3(entry.D_x, entry.D_y, entry.D_z)\n",
    "    xDstar  = ROOT.TVector3(entry.Dstar_x, entry.Dstar_y, entry.Dstar_z)\n",
    "    xRel    = xD - xDstar\n",
    "    relSep  = xRel.Mag()\n",
    "    relSep *= 0.1975 # convert to fm \n",
    "\n",
    "    # relative momenta\n",
    "    pD      = ROOT.TVector3(entry.D_px, entry.D_py, entry.D_pz)\n",
    "    pDstar  = ROOT.TVector3(entry.Dstar_px, entry.Dstar_py, entry.Dstar_pz)\n",
    "    pRel    = pD - pDstar\n",
    "    relMom  = pRel.Mag() \n",
    "    \n",
    "    h1.Fill(relSep, relMom)"
   ]
  },
  {
   "cell_type": "code",
   "execution_count": 73,
   "metadata": {},
   "outputs": [],
   "source": [
    "h1.GetXaxis().SetTitle(\"Relative Separation [fm]\")\n",
    "h1.GetYaxis().SetTitle(\"Relative Momentum [GeV]\")\n",
    "h1.SetOption(\"COLZ\")     # colored bins\n",
    "h1.SetStats(0)           # remove stats box\n",
    "h1.Draw()"
   ]
  },
  {
   "cell_type": "code",
   "execution_count": 75,
   "metadata": {},
   "outputs": [
    {
     "output_type": "display_data",
     "data": {
      "image/png": "[encoded data removed]",
      "text/plain": "<IPython.core.display.Image object>"
     },
     "metadata": {}
    }
   ],
   "source": [
    "c1.Modified()\n",
    "c1.Draw()"
   ]
  },
  {
   "cell_type": "code",
   "execution_count": null,
   "metadata": {},
   "outputs": [],
   "source": []
  }
 ],
 "metadata": {
  "kernelspec": {
   "display_name": "Python 3",
   "language": "python",
   "name": "python3"
  },
  "language_info": {
   "codemirror_mode": {
    "name": "ipython",
    "version": 3
   },
   "file_extension": ".py",
   "mimetype": "text/x-python",
   "name": "python",
   "nbconvert_exporter": "python",
   "pygments_lexer": "ipython3",
   "version": "3.8.2-final"
  }
 },
 "nbformat": 4,
 "nbformat_minor": 4
}